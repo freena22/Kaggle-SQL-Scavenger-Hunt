{
  "cells": [
    {
      "metadata": {
        "_cell_guid": "2fc58cbb-15ec-42e5-8f81-ca4cba5db07c",
        "_uuid": "8710f8a626efbd27c8e53b723e97813fdd388822"
      },
      "cell_type": "markdown",
      "source": "# SELECT, FROM & WHERE\n\nToday, we're going to learn how to use SELECT, FROM and WHERE to get data from a specific column based on the value of another column. For the purposes of this explanation, we'll be using this imaginary database, `pet_records` which has just one table in it, called `pets`, which looks like this:\n\n![](https://i.imgur.com/Ef4Puo3.png)\n\n### SELECT ... FROM\n___\n\nThe most basic SQL query is to select a single column from a specific table. To do this, you need to tell SELECT which column to select and then specify what table that column is from using from. \n\n> **Do you need to capitalize SELECT and FROM?** No, SQL doesn't care about capitalization. However, it's customary to capitalize your SQL commands and it makes your queries a bit easier to read.\n\nSo, if we wanted to select the \"Name\" column from the pets table of the pet_records database (if that database were accessible as a BigQuery dataset on Kaggle , which it is not, because I made it up), we would do this:\n\n    SELECT Name\n    FROM `bigquery-public-data.pet_records.pets`\n\nWhich would return the highlighted data from this figure.\n\n![](https://i.imgur.com/8FdVyFP.png)\n\n### WHERE ...\n___\n\nWhen you're working with BigQuery datasets, you're almost always going to want to return only certain rows, usually based on the value of a different column. You can do this using the WHERE clause, which will only return the rows where the WHERE clause evaluates to true.\n\nLet's look at an example:\n\n    SELECT Name\n    FROM `bigquery-public-data.pet_records.pets`\n    WHERE Animal = \"Cat\"\n\nThis query will only return the entries from the \"Name\" column that are in rows where the \"Animal\" column has the text \"Cat\" in it. Those are the cells highlighted in blue in this figure:\n\n![](https://i.imgur.com/Va52Qdl.png)\n"
    },
    {
      "metadata": {
        "_cell_guid": "2e2563a2-5b9d-42a4-8fa3-da4d4150b24d",
        "_uuid": "0482e52934a735a43d562fe7beeabb85fe70e338"
      },
      "cell_type": "markdown",
      "source": "## Example: What are all the U.S. cities in the OpenAQ dataset?\n___\n\nNow that you've got the basics down, let's work through an example with a real dataset. Today we're going to be working with the OpenAQ dataset, which has information on air quality around the world. (The data in it should be current: it's updated weekly.)\n\nTo help get you situated, I'm going to run through a complete query first. Then it will be your turn to get started running your queries!\n\nFirst, I'm going to set up everything we need to run queries and take a quick peek at what tables are in our database."
    },
    {
      "metadata": {
        "_cell_guid": "9a26e7db-812d-4fbb-b457-e09d323af127",
        "_uuid": "ab40ebc98c64c78df9a11d922bbc23573a43aefe",
        "trusted": true
      },
      "cell_type": "code",
      "source": "# import package with helper functions \nimport bq_helper\n\n# create a helper object for this dataset\nopen_aq = bq_helper.BigQueryHelper(active_project=\"bigquery-public-data\",\n                                   dataset_name=\"openaq\")\n\n# print all the tables in this dataset (there's only one!)\nopen_aq.list_tables()",
      "execution_count": 1,
      "outputs": [
        {
          "data": {
            "text/plain": "['global_air_quality']"
          },
          "execution_count": 1,
          "metadata": {},
          "output_type": "execute_result"
        }
      ]
    },
    {
      "metadata": {
        "_cell_guid": "cf3f3bd4-ef30-45d1-bdb3-5c8e7d3ec194",
        "_uuid": "0f5207bb8a05b44d1af2e002fde6260fb01baa1d"
      },
      "cell_type": "markdown",
      "source": "I'm going to take a peek at the first couple of rows to help me see what sort of data is in this dataset."
    },
    {
      "metadata": {
        "_cell_guid": "d85ed84b-58b3-48c1-8ea6-4c89ad254bd8",
        "_uuid": "dad17f046aac83f2c219452e032fd72227ea3e7a",
        "trusted": true
      },
      "cell_type": "code",
      "source": "# print the first couple rows of the \"global_air_quality\" dataset\nopen_aq.head(\"global_air_quality\")",
      "execution_count": 2,
      "outputs": [
        {
          "data": {
            "text/html": "<div>\n<style>\n    .dataframe thead tr:only-child th {\n        text-align: right;\n    }\n\n    .dataframe thead th {\n        text-align: left;\n    }\n\n    .dataframe tbody tr th {\n        vertical-align: top;\n    }\n</style>\n<table border=\"1\" class=\"dataframe\">\n  <thead>\n    <tr style=\"text-align: right;\">\n      <th></th>\n      <th>location</th>\n      <th>city</th>\n      <th>country</th>\n      <th>pollutant</th>\n      <th>value</th>\n      <th>timestamp</th>\n      <th>unit</th>\n      <th>source_name</th>\n      <th>latitude</th>\n      <th>longitude</th>\n      <th>averaged_over_in_hours</th>\n    </tr>\n  </thead>\n  <tbody>\n    <tr>\n      <th>0</th>\n      <td>Mobile_Cle Elum</td>\n      <td>037</td>\n      <td>US</td>\n      <td>pm25</td>\n      <td>0.00</td>\n      <td>2017-09-26 20:00:00+00:00</td>\n      <td>µg/m³</td>\n      <td>AirNow</td>\n      <td>47.197630</td>\n      <td>-120.958230</td>\n      <td>1.0</td>\n    </tr>\n    <tr>\n      <th>1</th>\n      <td>Mobile_WhiteSalmon</td>\n      <td>039</td>\n      <td>US</td>\n      <td>pm25</td>\n      <td>0.00</td>\n      <td>2017-09-26 20:00:00+00:00</td>\n      <td>µg/m³</td>\n      <td>AirNow</td>\n      <td>45.732414</td>\n      <td>-121.492330</td>\n      <td>1.0</td>\n    </tr>\n    <tr>\n      <th>2</th>\n      <td>Mobile_Newport</td>\n      <td>051</td>\n      <td>US</td>\n      <td>pm25</td>\n      <td>0.00</td>\n      <td>2017-09-21 18:00:00+00:00</td>\n      <td>µg/m³</td>\n      <td>AirNow</td>\n      <td>48.186485</td>\n      <td>-117.049160</td>\n      <td>1.0</td>\n    </tr>\n    <tr>\n      <th>3</th>\n      <td>FR20047</td>\n      <td>Ain</td>\n      <td>FR</td>\n      <td>o3</td>\n      <td>2.13</td>\n      <td>2018-02-13 07:00:00+00:00</td>\n      <td>µg/m³</td>\n      <td>EEA France</td>\n      <td>45.823223</td>\n      <td>4.953958</td>\n      <td>1.0</td>\n    </tr>\n    <tr>\n      <th>4</th>\n      <td>FR20047</td>\n      <td>Ain</td>\n      <td>FR</td>\n      <td>pm10</td>\n      <td>18.70</td>\n      <td>2018-02-13 07:00:00+00:00</td>\n      <td>µg/m³</td>\n      <td>EEA France</td>\n      <td>45.823223</td>\n      <td>4.953958</td>\n      <td>1.0</td>\n    </tr>\n  </tbody>\n</table>\n</div>",
            "text/plain": "             location city country pollutant  value                 timestamp  \\\n0     Mobile_Cle Elum  037      US      pm25   0.00 2017-09-26 20:00:00+00:00   \n1  Mobile_WhiteSalmon  039      US      pm25   0.00 2017-09-26 20:00:00+00:00   \n2      Mobile_Newport  051      US      pm25   0.00 2017-09-21 18:00:00+00:00   \n3             FR20047  Ain      FR        o3   2.13 2018-02-13 07:00:00+00:00   \n4             FR20047  Ain      FR      pm10  18.70 2018-02-13 07:00:00+00:00   \n\n    unit source_name   latitude   longitude  averaged_over_in_hours  \n0  µg/m³      AirNow  47.197630 -120.958230                     1.0  \n1  µg/m³      AirNow  45.732414 -121.492330                     1.0  \n2  µg/m³      AirNow  48.186485 -117.049160                     1.0  \n3  µg/m³  EEA France  45.823223    4.953958                     1.0  \n4  µg/m³  EEA France  45.823223    4.953958                     1.0  "
          },
          "execution_count": 2,
          "metadata": {},
          "output_type": "execute_result"
        }
      ]
    },
    {
      "metadata": {
        "_cell_guid": "c4cf499d-a495-4717-a390-523107b3e1b2",
        "_uuid": "e70b02fc205ca45859a8520c211e11e3f46a3811"
      },
      "cell_type": "markdown",
      "source": "Great, everything looks good! Now that I'm set up, I'm going to put together a query. I want to select all the values from the \"city\" column for the rows there the \"country\" column is \"us\" (for \"United States\"). \n\n> **What's up with the triple quotation marks (\"\"\")?** These tell Python that everything inside them is a single string, even though we have line breaks in it. The line breaks aren't necessary, but they do make it much easier to read your query."
    },
    {
      "metadata": {
        "_cell_guid": "787efd2f-8f1e-4804-982c-4cd86888c56f",
        "_uuid": "42f5bfb36cba82ccf9250a9c71077ce4154b4a32",
        "collapsed": true,
        "trusted": true
      },
      "cell_type": "code",
      "source": "# query to select all the items from the \"city\" column where the\n# \"country\" column is \"us\"\nquery = \"\"\"SELECT city\n            FROM `bigquery-public-data.openaq.global_air_quality`\n            WHERE country = 'US'\n        \"\"\"",
      "execution_count": 4,
      "outputs": []
    },
    {
      "metadata": {
        "_cell_guid": "baf936ce-7334-4038-9c6a-d2a8d2d4d8e4",
        "_uuid": "b16b54b3e2d1b478f9179d6e73f0660c6aa973d4"
      },
      "cell_type": "markdown",
      "source": "> **Important:**  Note that the argument we pass to FROM is *not* in single or double quotation marks (' or \"). It is in backticks (\\`). If you use quotation marks instead of backticks, you'll get this error when you try to run the query: `Syntax error: Unexpected string literal` \n\nNow I can use this query to get information from our open_aq dataset. I'm using the `BigQueryHelper.query_to_pandas_safe()` method here because it won't run a query if it's larger than 1 gigabyte, which helps me avoid accidentally running a very large query. See the [Scavenger Hunt Handbook ](https://www.kaggle.com/rtatman/sql-scavenger-hunt-handbook/)for more details. "
    },
    {
      "metadata": {
        "_cell_guid": "b37cf4b8-1d54-456b-9e52-8e139b166a6e",
        "_uuid": "ecde0a65fad06ef5d22d896484d8cbe05f874e12",
        "collapsed": true,
        "trusted": true
      },
      "cell_type": "code",
      "source": "# the query_to_pandas_safe will only return a result if it's less\n# than one gigabyte (by default)\nus_cities = open_aq.query_to_pandas_safe(query)",
      "execution_count": 5,
      "outputs": []
    },
    {
      "metadata": {
        "_cell_guid": "9f642ae3-1b06-479a-9e31-a0f21423ecaf",
        "_uuid": "5f3ff35c822b8809cf07180d15ad651bcad4eb46"
      },
      "cell_type": "markdown",
      "source": "Now I've got a dataframe called us_cities, which I can use like I would any other dataframe:"
    },
    {
      "metadata": {
        "_cell_guid": "3bc9736e-9b18-44c2-9444-e0946cad8b79",
        "_uuid": "2d6b6cca96280cd1a4c4568c723fd35edff7fffa",
        "trusted": true
      },
      "cell_type": "code",
      "source": "# What five cities have the most measurements taken there?\nus_cities.city.value_counts().head()",
      "execution_count": 6,
      "outputs": [
        {
          "data": {
            "text/plain": "Phoenix-Mesa-Scottsdale                     85\nHouston                                     75\nLos Angeles-Long Beach-Santa Ana            60\nNew York-Northern New Jersey-Long Island    57\nRiverside-San Bernardino-Ontario            56\nName: city, dtype: int64"
          },
          "execution_count": 6,
          "metadata": {},
          "output_type": "execute_result"
        }
      ]
    },
    {
      "metadata": {
        "_cell_guid": "fda0a223-5fd5-4524-a402-ecaef2905fa0",
        "_kg_hide-output": true,
        "_uuid": "654d2baeecb8757e10d02a63ec6cc63fe2df2339"
      },
      "cell_type": "markdown",
      "source": "# Scavenger hunt\n___\n\nNow it's your turn! Here's the questions I would like you to get the data to answer:\n\n* Which countries use a unit other than ppm to measure any type of pollution? (Hint: to get rows where the value *isn't* something, use \"!=\")\n* Which pollutants have a value of exactly 0?\n\nIn order to answer these questions, you can fork this notebook by hitting the blue \"Fork Notebook\" at the very top of this page (you may have to scroll up).  \"Forking\" something is making a copy of it that you can edit on your own without changing the original."
    },
    {
      "metadata": {
        "_cell_guid": "a4f6aab8-ae9b-4123-87e9-94aadf6a757c",
        "_uuid": "c346ce030dd69d682f91756fc9185ae7845066fb",
        "trusted": true
      },
      "cell_type": "code",
      "source": "# Your code goes here :)\nquery1 = \"\"\"SELECT country,pollutant\n            FROM `bigquery-public-data.openaq.global_air_quality`\n            WHERE pollutant != 'ppm'\n        \"\"\"\nresult1 = open_aq.query_to_pandas_safe(query1)\nresult1.tail(10)",
      "execution_count": 7,
      "outputs": [
        {
          "data": {
            "text/html": "<div>\n<style>\n    .dataframe thead tr:only-child th {\n        text-align: right;\n    }\n\n    .dataframe thead th {\n        text-align: left;\n    }\n\n    .dataframe tbody tr th {\n        vertical-align: top;\n    }\n</style>\n<table border=\"1\" class=\"dataframe\">\n  <thead>\n    <tr style=\"text-align: right;\">\n      <th></th>\n      <th>country</th>\n      <th>pollutant</th>\n    </tr>\n  </thead>\n  <tbody>\n    <tr>\n      <th>17097</th>\n      <td>US</td>\n      <td>pm25</td>\n    </tr>\n    <tr>\n      <th>17098</th>\n      <td>VN</td>\n      <td>pm25</td>\n    </tr>\n    <tr>\n      <th>17099</th>\n      <td>VN</td>\n      <td>pm25</td>\n    </tr>\n    <tr>\n      <th>17100</th>\n      <td>VN</td>\n      <td>pm25</td>\n    </tr>\n    <tr>\n      <th>17101</th>\n      <td>XK</td>\n      <td>pm25</td>\n    </tr>\n    <tr>\n      <th>17102</th>\n      <td>ZA</td>\n      <td>so2</td>\n    </tr>\n    <tr>\n      <th>17103</th>\n      <td>ZA</td>\n      <td>so2</td>\n    </tr>\n    <tr>\n      <th>17104</th>\n      <td>ZA</td>\n      <td>so2</td>\n    </tr>\n    <tr>\n      <th>17105</th>\n      <td>ZA</td>\n      <td>pm10</td>\n    </tr>\n    <tr>\n      <th>17106</th>\n      <td>ZA</td>\n      <td>pm10</td>\n    </tr>\n  </tbody>\n</table>\n</div>",
            "text/plain": "      country pollutant\n17097      US      pm25\n17098      VN      pm25\n17099      VN      pm25\n17100      VN      pm25\n17101      XK      pm25\n17102      ZA       so2\n17103      ZA       so2\n17104      ZA       so2\n17105      ZA      pm10\n17106      ZA      pm10"
          },
          "execution_count": 7,
          "metadata": {},
          "output_type": "execute_result"
        }
      ]
    },
    {
      "metadata": {
        "_cell_guid": "05941625-66b9-4661-ac43-8a8b684b3edd",
        "_uuid": "279ee2b7030c0bdd6a8dece26d5f1d256002f305",
        "trusted": true
      },
      "cell_type": "code",
      "source": "query2 = \"\"\"SELECT country,pollutant,value\n            FROM `bigquery-public-data.openaq.global_air_quality`\n            WHERE value = 0\n        \"\"\"\nresult2 = open_aq.query_to_pandas_safe(query2)\nresult2.tail(10)",
      "execution_count": 13,
      "outputs": [
        {
          "data": {
            "text/html": "<div>\n<style>\n    .dataframe thead tr:only-child th {\n        text-align: right;\n    }\n\n    .dataframe thead th {\n        text-align: left;\n    }\n\n    .dataframe tbody tr th {\n        vertical-align: top;\n    }\n</style>\n<table border=\"1\" class=\"dataframe\">\n  <thead>\n    <tr style=\"text-align: right;\">\n      <th></th>\n      <th>country</th>\n      <th>pollutant</th>\n      <th>value</th>\n    </tr>\n  </thead>\n  <tbody>\n    <tr>\n      <th>752</th>\n      <td>US</td>\n      <td>pm25</td>\n      <td>0.0</td>\n    </tr>\n    <tr>\n      <th>753</th>\n      <td>US</td>\n      <td>pm25</td>\n      <td>0.0</td>\n    </tr>\n    <tr>\n      <th>754</th>\n      <td>US</td>\n      <td>pm25</td>\n      <td>0.0</td>\n    </tr>\n    <tr>\n      <th>755</th>\n      <td>US</td>\n      <td>pm25</td>\n      <td>0.0</td>\n    </tr>\n    <tr>\n      <th>756</th>\n      <td>US</td>\n      <td>pm25</td>\n      <td>0.0</td>\n    </tr>\n    <tr>\n      <th>757</th>\n      <td>US</td>\n      <td>pm25</td>\n      <td>0.0</td>\n    </tr>\n    <tr>\n      <th>758</th>\n      <td>US</td>\n      <td>pm25</td>\n      <td>0.0</td>\n    </tr>\n    <tr>\n      <th>759</th>\n      <td>US</td>\n      <td>pm25</td>\n      <td>0.0</td>\n    </tr>\n    <tr>\n      <th>760</th>\n      <td>US</td>\n      <td>pm25</td>\n      <td>0.0</td>\n    </tr>\n    <tr>\n      <th>761</th>\n      <td>US</td>\n      <td>pm25</td>\n      <td>0.0</td>\n    </tr>\n  </tbody>\n</table>\n</div>",
            "text/plain": "    country pollutant  value\n752      US      pm25    0.0\n753      US      pm25    0.0\n754      US      pm25    0.0\n755      US      pm25    0.0\n756      US      pm25    0.0\n757      US      pm25    0.0\n758      US      pm25    0.0\n759      US      pm25    0.0\n760      US      pm25    0.0\n761      US      pm25    0.0"
          },
          "execution_count": 13,
          "metadata": {},
          "output_type": "execute_result"
        }
      ]
    },
    {
      "metadata": {
        "_uuid": "4d81402d6683fd4e25061b1940104d2788c4cfc6"
      },
      "cell_type": "markdown",
      "source": "- Check whether the datasets has the air pollution situation of China (CH), and appreantly no. "
    },
    {
      "metadata": {
        "trusted": true,
        "_uuid": "a6c9e0a4fe77b2aa2a0faec453b33aac90c29c95"
      },
      "cell_type": "code",
      "source": "query3 = \"\"\"SELECT DISTINCT country\n            FROM `bigquery-public-data.openaq.global_air_quality`\n        \"\"\"\nresult3 = open_aq.query_to_pandas_safe(query3)\nresult3",
      "execution_count": 17,
      "outputs": [
        {
          "data": {
            "text/html": "<div>\n<style>\n    .dataframe thead tr:only-child th {\n        text-align: right;\n    }\n\n    .dataframe thead th {\n        text-align: left;\n    }\n\n    .dataframe tbody tr th {\n        vertical-align: top;\n    }\n</style>\n<table border=\"1\" class=\"dataframe\">\n  <thead>\n    <tr style=\"text-align: right;\">\n      <th></th>\n      <th>country</th>\n    </tr>\n  </thead>\n  <tbody>\n    <tr>\n      <th>0</th>\n      <td>US</td>\n    </tr>\n    <tr>\n      <th>1</th>\n      <td>FR</td>\n    </tr>\n    <tr>\n      <th>2</th>\n      <td>TH</td>\n    </tr>\n    <tr>\n      <th>3</th>\n      <td>IN</td>\n    </tr>\n    <tr>\n      <th>4</th>\n      <td>NL</td>\n    </tr>\n    <tr>\n      <th>5</th>\n      <td>GB</td>\n    </tr>\n    <tr>\n      <th>6</th>\n      <td>CH</td>\n    </tr>\n    <tr>\n      <th>7</th>\n      <td>PT</td>\n    </tr>\n    <tr>\n      <th>8</th>\n      <td>ES</td>\n    </tr>\n    <tr>\n      <th>9</th>\n      <td>BR</td>\n    </tr>\n    <tr>\n      <th>10</th>\n      <td>TR</td>\n    </tr>\n    <tr>\n      <th>11</th>\n      <td>PE</td>\n    </tr>\n    <tr>\n      <th>12</th>\n      <td>NO</td>\n    </tr>\n    <tr>\n      <th>13</th>\n      <td>HK</td>\n    </tr>\n    <tr>\n      <th>14</th>\n      <td>LV</td>\n    </tr>\n    <tr>\n      <th>15</th>\n      <td>IT</td>\n    </tr>\n    <tr>\n      <th>16</th>\n      <td>CN</td>\n    </tr>\n    <tr>\n      <th>17</th>\n      <td>GH</td>\n    </tr>\n    <tr>\n      <th>18</th>\n      <td>CL</td>\n    </tr>\n    <tr>\n      <th>19</th>\n      <td>PL</td>\n    </tr>\n    <tr>\n      <th>20</th>\n      <td>SI</td>\n    </tr>\n    <tr>\n      <th>21</th>\n      <td>BD</td>\n    </tr>\n    <tr>\n      <th>22</th>\n      <td>MT</td>\n    </tr>\n    <tr>\n      <th>23</th>\n      <td>VN</td>\n    </tr>\n    <tr>\n      <th>24</th>\n      <td>BA</td>\n    </tr>\n    <tr>\n      <th>25</th>\n      <td>BE</td>\n    </tr>\n    <tr>\n      <th>26</th>\n      <td>TW</td>\n    </tr>\n    <tr>\n      <th>27</th>\n      <td>LT</td>\n    </tr>\n    <tr>\n      <th>28</th>\n      <td>DE</td>\n    </tr>\n    <tr>\n      <th>29</th>\n      <td>CO</td>\n    </tr>\n    <tr>\n      <th>...</th>\n      <td>...</td>\n    </tr>\n    <tr>\n      <th>34</th>\n      <td>BH</td>\n    </tr>\n    <tr>\n      <th>35</th>\n      <td>PH</td>\n    </tr>\n    <tr>\n      <th>36</th>\n      <td>RU</td>\n    </tr>\n    <tr>\n      <th>37</th>\n      <td>CA</td>\n    </tr>\n    <tr>\n      <th>38</th>\n      <td>AD</td>\n    </tr>\n    <tr>\n      <th>39</th>\n      <td>IE</td>\n    </tr>\n    <tr>\n      <th>40</th>\n      <td>AT</td>\n    </tr>\n    <tr>\n      <th>41</th>\n      <td>ID</td>\n    </tr>\n    <tr>\n      <th>42</th>\n      <td>HU</td>\n    </tr>\n    <tr>\n      <th>43</th>\n      <td>LK</td>\n    </tr>\n    <tr>\n      <th>44</th>\n      <td>UG</td>\n    </tr>\n    <tr>\n      <th>45</th>\n      <td>FI</td>\n    </tr>\n    <tr>\n      <th>46</th>\n      <td>IL</td>\n    </tr>\n    <tr>\n      <th>47</th>\n      <td>LU</td>\n    </tr>\n    <tr>\n      <th>48</th>\n      <td>HR</td>\n    </tr>\n    <tr>\n      <th>49</th>\n      <td>XK</td>\n    </tr>\n    <tr>\n      <th>50</th>\n      <td>AE</td>\n    </tr>\n    <tr>\n      <th>51</th>\n      <td>NP</td>\n    </tr>\n    <tr>\n      <th>52</th>\n      <td>SG</td>\n    </tr>\n    <tr>\n      <th>53</th>\n      <td>CZ</td>\n    </tr>\n    <tr>\n      <th>54</th>\n      <td>MX</td>\n    </tr>\n    <tr>\n      <th>55</th>\n      <td>DK</td>\n    </tr>\n    <tr>\n      <th>56</th>\n      <td>ET</td>\n    </tr>\n    <tr>\n      <th>57</th>\n      <td>KW</td>\n    </tr>\n    <tr>\n      <th>58</th>\n      <td>MN</td>\n    </tr>\n    <tr>\n      <th>59</th>\n      <td>AR</td>\n    </tr>\n    <tr>\n      <th>60</th>\n      <td>RS</td>\n    </tr>\n    <tr>\n      <th>61</th>\n      <td>ZA</td>\n    </tr>\n    <tr>\n      <th>62</th>\n      <td>SK</td>\n    </tr>\n    <tr>\n      <th>63</th>\n      <td>GI</td>\n    </tr>\n  </tbody>\n</table>\n<p>64 rows × 1 columns</p>\n</div>",
            "text/plain": "   country\n0       US\n1       FR\n2       TH\n3       IN\n4       NL\n5       GB\n6       CH\n7       PT\n8       ES\n9       BR\n10      TR\n11      PE\n12      NO\n13      HK\n14      LV\n15      IT\n16      CN\n17      GH\n18      CL\n19      PL\n20      SI\n21      BD\n22      MT\n23      VN\n24      BA\n25      BE\n26      TW\n27      LT\n28      DE\n29      CO\n..     ...\n34      BH\n35      PH\n36      RU\n37      CA\n38      AD\n39      IE\n40      AT\n41      ID\n42      HU\n43      LK\n44      UG\n45      FI\n46      IL\n47      LU\n48      HR\n49      XK\n50      AE\n51      NP\n52      SG\n53      CZ\n54      MX\n55      DK\n56      ET\n57      KW\n58      MN\n59      AR\n60      RS\n61      ZA\n62      SK\n63      GI\n\n[64 rows x 1 columns]"
          },
          "execution_count": 17,
          "metadata": {},
          "output_type": "execute_result"
        }
      ]
    },
    {
      "metadata": {
        "_uuid": "038f258454cbbb97a549657e3105ef18a4706fbc"
      },
      "cell_type": "markdown",
      "source": "- Check in which U.S. city has the worst pm2.5 air pullution? "
    },
    {
      "metadata": {
        "trusted": true,
        "_uuid": "ba1baa60be8faaeaf9cca36df72494a57a5f8124"
      },
      "cell_type": "code",
      "source": "query4 = \"\"\"SELECT city, pollutant, AVG(value) AS average_value\n            FROM `bigquery-public-data.openaq.global_air_quality`\n            WHERE country = 'US' AND pollutant = 'pm25'\n            GROUP BY city,pollutant\n            ORDER BY average_value DESC\n        \"\"\"\nresult4 = open_aq.query_to_pandas_safe(query4)\nresult4.head(10)",
      "execution_count": 21,
      "outputs": [
        {
          "data": {
            "text/html": "<div>\n<style>\n    .dataframe thead tr:only-child th {\n        text-align: right;\n    }\n\n    .dataframe thead th {\n        text-align: left;\n    }\n\n    .dataframe tbody tr th {\n        vertical-align: top;\n    }\n</style>\n<table border=\"1\" class=\"dataframe\">\n  <thead>\n    <tr style=\"text-align: right;\">\n      <th></th>\n      <th>city</th>\n      <th>pollutant</th>\n      <th>average_value</th>\n    </tr>\n  </thead>\n  <tbody>\n    <tr>\n      <th>0</th>\n      <td>IDAHO</td>\n      <td>pm25</td>\n      <td>122.933333</td>\n    </tr>\n    <tr>\n      <th>1</th>\n      <td>CLACKAMAS</td>\n      <td>pm25</td>\n      <td>59.100000</td>\n    </tr>\n    <tr>\n      <th>2</th>\n      <td>Hanford-Corcoran</td>\n      <td>pm25</td>\n      <td>53.000000</td>\n    </tr>\n    <tr>\n      <th>3</th>\n      <td>SAN JOAQUIN</td>\n      <td>pm25</td>\n      <td>48.000000</td>\n    </tr>\n    <tr>\n      <th>4</th>\n      <td>SONOMA</td>\n      <td>pm25</td>\n      <td>44.000000</td>\n    </tr>\n    <tr>\n      <th>5</th>\n      <td>Fresno</td>\n      <td>pm25</td>\n      <td>32.000000</td>\n    </tr>\n    <tr>\n      <th>6</th>\n      <td>MT1</td>\n      <td>pm25</td>\n      <td>31.000000</td>\n    </tr>\n    <tr>\n      <th>7</th>\n      <td>Bangor</td>\n      <td>pm25</td>\n      <td>31.000000</td>\n    </tr>\n    <tr>\n      <th>8</th>\n      <td>CA8 - ARB</td>\n      <td>pm25</td>\n      <td>27.833333</td>\n    </tr>\n    <tr>\n      <th>9</th>\n      <td>Greeley</td>\n      <td>pm25</td>\n      <td>27.300000</td>\n    </tr>\n  </tbody>\n</table>\n</div>",
            "text/plain": "               city pollutant  average_value\n0             IDAHO      pm25     122.933333\n1         CLACKAMAS      pm25      59.100000\n2  Hanford-Corcoran      pm25      53.000000\n3       SAN JOAQUIN      pm25      48.000000\n4            SONOMA      pm25      44.000000\n5            Fresno      pm25      32.000000\n6               MT1      pm25      31.000000\n7            Bangor      pm25      31.000000\n8         CA8 - ARB      pm25      27.833333\n9           Greeley      pm25      27.300000"
          },
          "execution_count": 21,
          "metadata": {},
          "output_type": "execute_result"
        }
      ]
    }
  ],
  "metadata": {
    "kernelspec": {
      "display_name": "Python 3",
      "language": "python",
      "name": "python3"
    },
    "language_info": {
      "codemirror_mode": {
        "name": "ipython",
        "version": 3
      },
      "file_extension": ".py",
      "mimetype": "text/x-python",
      "name": "python",
      "nbconvert_exporter": "python",
      "pygments_lexer": "ipython3",
      "version": "3.6.4"
    }
  },
  "nbformat": 4,
  "nbformat_minor": 1
}