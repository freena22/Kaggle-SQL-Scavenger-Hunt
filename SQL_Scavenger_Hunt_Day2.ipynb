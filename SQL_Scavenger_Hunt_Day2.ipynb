{
  "cells": [
    {
      "metadata": {
        "_cell_guid": "2fc58cbb-15ec-42e5-8f81-ca4cba5db07c",
        "_uuid": "8710f8a626efbd27c8e53b723e97813fdd388822"
      },
      "cell_type": "markdown",
      "source": "# GROUP BY... HAVING and COUNT\n\nNow that we know how to select the content of a column, we're ready to learn how to group your data and count things within those groups. This can help you answer questions like: \n\n* How many of each kind of fruit has our store sold?\n* How many species of animal has the vet office treated?\n\nTo do this, we're going to learn about three new techniques: GROUP BY, HAVING and COUNT. Once again, we're going to use this 100% made up table of information on various pets, which has three columns: one with the unique ID number for each pet, one with the name of the pet and one with the species of the animal (rabbit, cat or dog). \n\n![](https://i.imgur.com/Ef4Puo3.png)\n\n### COUNT\n___\n\nCOUNT(), as you may have guessed from the name, returns a count of things. If you pass it the name of a column, it will return the number of entries in that column. So if we SELECT the COUNT() of the ID column, it will return the number of ID's in that column.\n\n    SELECT COUNT(ID)\n    FROM `bigquery-public-data.pet_records.pets`\n    \nThis query, based on the table above, will return 4 because there are 4 ID's in this table.\n \n### GROUP BY\n___\n\nGROUP BY takes the name of one or more column and tells SQL that we want to treat rows that have the same value in that column as a single group when we apply aggregate functions like COUNT().\n\n> An **aggregate function** takes in many values and returns one. Here, we're learning about COUNT() but there are other aggregate functions like SUM() and AVERAGE().\n\nNote that because it tells SQL how to apply aggregate functions, it doesn't make sense to use GROUP BY without something like COUNT(). \n\nLet's look at an example. We want to know how many of each type of animal we have in our table. We can get this information by using GROUP BY to group together rows that have the same value in the “Animal” column, while using COUNT() to find out how many ID's we have in each group. You can see the general idea in this image:\n\n![](https://i.imgur.com/MFRhycu.png)\n\nThe query that will get us this information looks like this:\n\n    SELECT Animal, COUNT(ID)\n    FROM `bigquery-public-data.pet_records.pets`\n    GROUP BY Animal\n\nThis query will return a table with two columns (Animal & COUNT(ID)) three rows (one for each distinct Animal). \n\nOne thing to note is that if you SELECT a column that you don't pass to 1) GROUP BY or 2) use as input to an aggregate function, you'll get an error. So this query won't work, because the Name column isn't either passed to either an aggregate function or a GROUP BY clause:\n\n    # NOT A VALID QUERY! \"Name\" isn't passed to GROUP BY\n    # or an aggregate function\n    SELECT Name, Animal, COUNT(ID)\n    FROM `bigquery-public-data.pet_records.pets`\n    GROUP BY Animal\n    \nIf make this error, you'll get the error message `SELECT list expression references column (column's name) which is neither grouped nor aggregated at`.\n\n### GROUP BY ... HAVING\n___\n\nAnother option you have when using GROUP BY is to specify that you want to ignore groups that don't meet certain criteria. So this query, for example, will only include groups that have more than one ID in them:\n\n    SELECT Animal, COUNT(ID)\n    FROM `bigquery-public-data.pet_records.pets`\n    GROUP BY Animal\n    HAVING COUNT(ID) > 1\n\nThe only group that this query will return information on is the one in the cells highlighted in blue in this figure:\n\n![](https://i.imgur.com/8xutHzn.png)\n\nAs a result, this query will return a table with only one row, since this there only one group remaining. It will have two columns: one for \"Animal\", which will have \"Cat\" in it, and one for COUNT(ID), which will have 2 in it. "
    },
    {
      "metadata": {
        "_cell_guid": "2e2563a2-5b9d-42a4-8fa3-da4d4150b24d",
        "_uuid": "0482e52934a735a43d562fe7beeabb85fe70e338"
      },
      "cell_type": "markdown",
      "source": "## Example: Which Hacker News comments generated the most discussion?\n___\n\nNow we're ready to work through an example on a real dataset. Today, we're going to be using the Hacker News dataset, which contains information on stories & comments from the Hacker News social networking site. I want to know which comments on the site generated the most replies.\n\nFirst, just like yesterday, we need to get our environment set up. I already know that I want the \"comments\" table, so I'm going to look at the first couple of rows of that to get started."
    },
    {
      "metadata": {
        "_cell_guid": "9a26e7db-812d-4fbb-b457-e09d323af127",
        "_uuid": "ab40ebc98c64c78df9a11d922bbc23573a43aefe",
        "trusted": true
      },
      "cell_type": "code",
      "source": "# import package with helper functions \nimport bq_helper\n\n# create a helper object for this dataset\nhacker_news = bq_helper.BigQueryHelper(active_project=\"bigquery-public-data\",\n                                   dataset_name=\"hacker_news\")\n\n# print the first couple rows of the \"comments\" table\nhacker_news.head(\"comments\")",
      "execution_count": 1,
      "outputs": [
        {
          "output_type": "execute_result",
          "execution_count": 1,
          "data": {
            "text/plain": "         id  by author        time                   time_ts  \\\n0   2701393  5l     5l  1309184881 2011-06-27 14:28:01+00:00   \n1   5811403  99     99  1370234048 2013-06-03 04:34:08+00:00   \n2     21623  AF     AF  1178992400 2007-05-12 17:53:20+00:00   \n3  10159727  EA     EA  1441206574 2015-09-02 15:09:34+00:00   \n4   2988424  Iv     Iv  1315853580 2011-09-12 18:53:00+00:00   \n\n                                                text    parent deleted  dead  \\\n0  And the glazier who fixed all the broken windo...   2701243    None  None   \n1  Does canada have the equivalent of H1B/Green c...   5804452    None  None   \n2  Speaking of Rails, there are other options in ...     21611    None  None   \n3  Humans and large livestock (and maybe even pet...  10159396    None  None   \n4  I must say I reacted in the same way when I re...   2988179    None  None   \n\n   ranking  \n0        0  \n1        0  \n2        0  \n3        0  \n4        0  ",
            "text/html": "<div>\n<style>\n    .dataframe thead tr:only-child th {\n        text-align: right;\n    }\n\n    .dataframe thead th {\n        text-align: left;\n    }\n\n    .dataframe tbody tr th {\n        vertical-align: top;\n    }\n</style>\n<table border=\"1\" class=\"dataframe\">\n  <thead>\n    <tr style=\"text-align: right;\">\n      <th></th>\n      <th>id</th>\n      <th>by</th>\n      <th>author</th>\n      <th>time</th>\n      <th>time_ts</th>\n      <th>text</th>\n      <th>parent</th>\n      <th>deleted</th>\n      <th>dead</th>\n      <th>ranking</th>\n    </tr>\n  </thead>\n  <tbody>\n    <tr>\n      <th>0</th>\n      <td>2701393</td>\n      <td>5l</td>\n      <td>5l</td>\n      <td>1309184881</td>\n      <td>2011-06-27 14:28:01+00:00</td>\n      <td>And the glazier who fixed all the broken windo...</td>\n      <td>2701243</td>\n      <td>None</td>\n      <td>None</td>\n      <td>0</td>\n    </tr>\n    <tr>\n      <th>1</th>\n      <td>5811403</td>\n      <td>99</td>\n      <td>99</td>\n      <td>1370234048</td>\n      <td>2013-06-03 04:34:08+00:00</td>\n      <td>Does canada have the equivalent of H1B/Green c...</td>\n      <td>5804452</td>\n      <td>None</td>\n      <td>None</td>\n      <td>0</td>\n    </tr>\n    <tr>\n      <th>2</th>\n      <td>21623</td>\n      <td>AF</td>\n      <td>AF</td>\n      <td>1178992400</td>\n      <td>2007-05-12 17:53:20+00:00</td>\n      <td>Speaking of Rails, there are other options in ...</td>\n      <td>21611</td>\n      <td>None</td>\n      <td>None</td>\n      <td>0</td>\n    </tr>\n    <tr>\n      <th>3</th>\n      <td>10159727</td>\n      <td>EA</td>\n      <td>EA</td>\n      <td>1441206574</td>\n      <td>2015-09-02 15:09:34+00:00</td>\n      <td>Humans and large livestock (and maybe even pet...</td>\n      <td>10159396</td>\n      <td>None</td>\n      <td>None</td>\n      <td>0</td>\n    </tr>\n    <tr>\n      <th>4</th>\n      <td>2988424</td>\n      <td>Iv</td>\n      <td>Iv</td>\n      <td>1315853580</td>\n      <td>2011-09-12 18:53:00+00:00</td>\n      <td>I must say I reacted in the same way when I re...</td>\n      <td>2988179</td>\n      <td>None</td>\n      <td>None</td>\n      <td>0</td>\n    </tr>\n  </tbody>\n</table>\n</div>"
          },
          "metadata": {}
        }
      ]
    },
    {
      "metadata": {
        "_cell_guid": "c4cf499d-a495-4717-a390-523107b3e1b2",
        "_uuid": "e70b02fc205ca45859a8520c211e11e3f46a3811"
      },
      "cell_type": "markdown",
      "source": "By looking at the documentation, I learned that the \"parent\" column has information on the comment that each comment was a reply to and the \"id\" column has the unique id used to identify each comment. So I can group by the \"parent\" column and count the \"id\" column in order to figure out the number of comments that were made as responses to a specific comment. \n\nBecause I'm more interested in popular comments than unpopular comments, I'm also only going to return the groups that have more than ten id's in them. In other words, I'm only going to look at comments that had more than ten comment replies to them."
    },
    {
      "metadata": {
        "_cell_guid": "787efd2f-8f1e-4804-982c-4cd86888c56f",
        "_uuid": "42f5bfb36cba82ccf9250a9c71077ce4154b4a32",
        "collapsed": true,
        "trusted": true
      },
      "cell_type": "code",
      "source": "# query to pass to \nquery = \"\"\"SELECT parent, COUNT(id)\n            FROM `bigquery-public-data.hacker_news.comments`\n            GROUP BY parent\n            HAVING COUNT(id) > 10\n        \"\"\"",
      "execution_count": 2,
      "outputs": []
    },
    {
      "metadata": {
        "_cell_guid": "baf936ce-7334-4038-9c6a-d2a8d2d4d8e4",
        "_uuid": "b16b54b3e2d1b478f9179d6e73f0660c6aa973d4"
      },
      "cell_type": "markdown",
      "source": "Now that our query is ready, let's run it (safely!) and store the results in a dataframe: "
    },
    {
      "metadata": {
        "_cell_guid": "b37cf4b8-1d54-456b-9e52-8e139b166a6e",
        "_uuid": "ecde0a65fad06ef5d22d896484d8cbe05f874e12",
        "collapsed": true,
        "trusted": true
      },
      "cell_type": "code",
      "source": "# the query_to_pandas_safe method will cancel the query if\n# it would use too much of your quota, with the limit set \n# to 1 GB by default\npopular_stories = hacker_news.query_to_pandas_safe(query)",
      "execution_count": 3,
      "outputs": []
    },
    {
      "metadata": {
        "_cell_guid": "965b0a34-170d-4583-9ea7-abce1db8dd15",
        "_uuid": "d7f9774939c28ced59e167dc10de0daf7d357ba8"
      },
      "cell_type": "markdown",
      "source": "And, just like yesterday, we have a dataframe we can treat like any other data frame:"
    },
    {
      "metadata": {
        "_cell_guid": "870d6747-9285-4d01-b987-fea070f6b84a",
        "_uuid": "cd43192ab15800fd1d93988fe28f6155c1a59b12",
        "trusted": true
      },
      "cell_type": "code",
      "source": "popular_stories.head()",
      "execution_count": 4,
      "outputs": [
        {
          "output_type": "execute_result",
          "execution_count": 4,
          "data": {
            "text/plain": "    parent  f0_\n0  5371725  258\n1  7833250  259\n2  3652041  260\n3  2403696  261\n4   286450   11",
            "text/html": "<div>\n<style>\n    .dataframe thead tr:only-child th {\n        text-align: right;\n    }\n\n    .dataframe thead th {\n        text-align: left;\n    }\n\n    .dataframe tbody tr th {\n        vertical-align: top;\n    }\n</style>\n<table border=\"1\" class=\"dataframe\">\n  <thead>\n    <tr style=\"text-align: right;\">\n      <th></th>\n      <th>parent</th>\n      <th>f0_</th>\n    </tr>\n  </thead>\n  <tbody>\n    <tr>\n      <th>0</th>\n      <td>5371725</td>\n      <td>258</td>\n    </tr>\n    <tr>\n      <th>1</th>\n      <td>7833250</td>\n      <td>259</td>\n    </tr>\n    <tr>\n      <th>2</th>\n      <td>3652041</td>\n      <td>260</td>\n    </tr>\n    <tr>\n      <th>3</th>\n      <td>2403696</td>\n      <td>261</td>\n    </tr>\n    <tr>\n      <th>4</th>\n      <td>286450</td>\n      <td>11</td>\n    </tr>\n  </tbody>\n</table>\n</div>"
          },
          "metadata": {}
        }
      ]
    },
    {
      "metadata": {
        "_cell_guid": "32055a03-ead5-4603-ac5e-d7faf25b7ffe",
        "_uuid": "eaf762f2a3af36758970eb1bb2f3f0d347059406"
      },
      "cell_type": "markdown",
      "source": "Looks good! From here I could do whatever further analysis or visualization I'd like. \n\n> **Why is the column with the COUNT() data called f0_**? It's called this because COUNT() is the first (and in our case, only) aggregate function we used in this query. If we'd used a second one, it would be called \"f1\\_\", the third would be called \"f2\\_\", and so on. We'll learn how to name the output of aggregate functions later this week.\n\nAnd that should be all you need to get started writing your own kernels with GROUP BY... WHERE and COUNT!"
    },
    {
      "metadata": {
        "_kg_hide-output": true,
        "_cell_guid": "fda0a223-5fd5-4524-a402-ecaef2905fa0",
        "_uuid": "654d2baeecb8757e10d02a63ec6cc63fe2df2339"
      },
      "cell_type": "markdown",
      "source": "# Scavenger hunt\n___\n\nNow it's your turn! Here's the questions I would like you to get the data to answer:\n\n* How many stories (use the \"id\" column) are there of each type (in the \"type\" column) in the full table?\n* How many comments have been deleted? (If a comment was deleted the \"deleted\" column in the comments table will have the value \"True\".)\n* **Optional extra credit**: read about [aggregate functions other than COUNT()](https://cloud.google.com/bigquery/docs/reference/standard-sql/functions-and-operators#aggregate-functions) and modify one of the queries you wrote above to use a different aggregate function.\n"
    },
    {
      "metadata": {
        "_cell_guid": "a4f6aab8-ae9b-4123-87e9-94aadf6a757c",
        "_uuid": "c346ce030dd69d682f91756fc9185ae7845066fb",
        "trusted": true
      },
      "cell_type": "code",
      "source": "# Number of stories of each type\nquery1 = \"\"\"SELECT type, COUNT(id) AS Num\n            FROM `bigquery-public-data.hacker_news.full`\n            GROUP BY type\n        \"\"\"\ntype_stories = hacker_news.query_to_pandas_safe(query1)\ntype_stories",
      "execution_count": 5,
      "outputs": [
        {
          "output_type": "execute_result",
          "execution_count": 5,
          "data": {
            "text/plain": "      type       Num\n0  comment  13487115\n1    story   2845239\n2  pollopt     11806\n3      job     10159\n4     poll      1728",
            "text/html": "<div>\n<style>\n    .dataframe thead tr:only-child th {\n        text-align: right;\n    }\n\n    .dataframe thead th {\n        text-align: left;\n    }\n\n    .dataframe tbody tr th {\n        vertical-align: top;\n    }\n</style>\n<table border=\"1\" class=\"dataframe\">\n  <thead>\n    <tr style=\"text-align: right;\">\n      <th></th>\n      <th>type</th>\n      <th>Num</th>\n    </tr>\n  </thead>\n  <tbody>\n    <tr>\n      <th>0</th>\n      <td>comment</td>\n      <td>13487115</td>\n    </tr>\n    <tr>\n      <th>1</th>\n      <td>story</td>\n      <td>2845239</td>\n    </tr>\n    <tr>\n      <th>2</th>\n      <td>pollopt</td>\n      <td>11806</td>\n    </tr>\n    <tr>\n      <th>3</th>\n      <td>job</td>\n      <td>10159</td>\n    </tr>\n    <tr>\n      <th>4</th>\n      <td>poll</td>\n      <td>1728</td>\n    </tr>\n  </tbody>\n</table>\n</div>"
          },
          "metadata": {}
        }
      ]
    },
    {
      "metadata": {
        "_cell_guid": "de2136c7-03df-47f0-a76b-4ead78ad7e35",
        "_uuid": "52b1bdcb1c4e3545b44a4fbf23578b210f084329",
        "trusted": true
      },
      "cell_type": "code",
      "source": "# How many comments have been deleted ?\nquery2 = \"\"\"SELECT COUNT(id) AS Num\n            FROM `bigquery-public-data.hacker_news.full`\n            WHERE deleted is TRUE \n        \"\"\"\ndeleted_stories = hacker_news.query_to_pandas_safe(query2)\ndeleted_stories",
      "execution_count": 11,
      "outputs": [
        {
          "output_type": "execute_result",
          "execution_count": 11,
          "data": {
            "text/plain": "      Num\n0  494499",
            "text/html": "<div>\n<style>\n    .dataframe thead tr:only-child th {\n        text-align: right;\n    }\n\n    .dataframe thead th {\n        text-align: left;\n    }\n\n    .dataframe tbody tr th {\n        vertical-align: top;\n    }\n</style>\n<table border=\"1\" class=\"dataframe\">\n  <thead>\n    <tr style=\"text-align: right;\">\n      <th></th>\n      <th>Num</th>\n    </tr>\n  </thead>\n  <tbody>\n    <tr>\n      <th>0</th>\n      <td>494499</td>\n    </tr>\n  </tbody>\n</table>\n</div>"
          },
          "metadata": {}
        }
      ]
    },
    {
      "metadata": {
        "_cell_guid": "1419712d-ade8-4b15-a2db-5078113bbd39",
        "_uuid": "b09125c72e73a94bfe22cd1c8ee9b66faaa5f732",
        "trusted": true
      },
      "cell_type": "code",
      "source": "# Other Aggregate function Practice\n# Which author spent the most time online?\nquery3 = \"\"\"SELECT author, SUM(time) AS average_time\n            FROM `bigquery-public-data.hacker_news.stories`\n            GROUP BY author\n            ORDER BY average_time DESC\n            LIMIT 10\n         \"\"\"\ntop_users = hacker_news.query_to_pandas_safe(query3)\ntop_users",
      "execution_count": 33,
      "outputs": [
        {
          "output_type": "execute_result",
          "execution_count": 33,
          "data": {
            "text/plain": "        author     average_time\n0         None  125936962151713\n1         cwan    9077104496093\n2   shawndumas    8872973707503\n3        evo_9    7575028792425\n4     iProject    5758314661151\n5     bootload    5355086684516\n6        nickb    5215480717902\n7  ColinWright    5127689160564\n8   tokenadult    4900466554280\n9       edw519    4805787882615",
            "text/html": "<div>\n<style>\n    .dataframe thead tr:only-child th {\n        text-align: right;\n    }\n\n    .dataframe thead th {\n        text-align: left;\n    }\n\n    .dataframe tbody tr th {\n        vertical-align: top;\n    }\n</style>\n<table border=\"1\" class=\"dataframe\">\n  <thead>\n    <tr style=\"text-align: right;\">\n      <th></th>\n      <th>author</th>\n      <th>average_time</th>\n    </tr>\n  </thead>\n  <tbody>\n    <tr>\n      <th>0</th>\n      <td>None</td>\n      <td>125936962151713</td>\n    </tr>\n    <tr>\n      <th>1</th>\n      <td>cwan</td>\n      <td>9077104496093</td>\n    </tr>\n    <tr>\n      <th>2</th>\n      <td>shawndumas</td>\n      <td>8872973707503</td>\n    </tr>\n    <tr>\n      <th>3</th>\n      <td>evo_9</td>\n      <td>7575028792425</td>\n    </tr>\n    <tr>\n      <th>4</th>\n      <td>iProject</td>\n      <td>5758314661151</td>\n    </tr>\n    <tr>\n      <th>5</th>\n      <td>bootload</td>\n      <td>5355086684516</td>\n    </tr>\n    <tr>\n      <th>6</th>\n      <td>nickb</td>\n      <td>5215480717902</td>\n    </tr>\n    <tr>\n      <th>7</th>\n      <td>ColinWright</td>\n      <td>5127689160564</td>\n    </tr>\n    <tr>\n      <th>8</th>\n      <td>tokenadult</td>\n      <td>4900466554280</td>\n    </tr>\n    <tr>\n      <th>9</th>\n      <td>edw519</td>\n      <td>4805787882615</td>\n    </tr>\n  </tbody>\n</table>\n</div>"
          },
          "metadata": {}
        }
      ]
    },
    {
      "metadata": {
        "trusted": true,
        "_uuid": "7f13c39c9737101d574739c8520b7282ef9c6e7b"
      },
      "cell_type": "code",
      "source": "# WHO got the highest stories score? \nquery4 = \"\"\"SELECT author, MAX(score) AS highest_score\n            FROM `bigquery-public-data.hacker_news.stories`\n            GROUP BY author\n            ORDER BY highest_score DESC\n            LIMIT 10\n         \"\"\"\ntop_score = hacker_news.query_to_pandas_safe(query4)\ntop_score",
      "execution_count": 36,
      "outputs": [
        {
          "output_type": "execute_result",
          "execution_count": 36,
          "data": {
            "text/plain": "           author  highest_score\n0    patricktomas           4339\n1        olalonde           3536\n2  replicatorblog           3086\n3      frederfred           2903\n4    chimeracoder           2744\n5         spikels           2666\n6          jwwest           2376\n7        ethomson           2376\n8         dkasper           2228\n9        bfaviero           2103",
            "text/html": "<div>\n<style>\n    .dataframe thead tr:only-child th {\n        text-align: right;\n    }\n\n    .dataframe thead th {\n        text-align: left;\n    }\n\n    .dataframe tbody tr th {\n        vertical-align: top;\n    }\n</style>\n<table border=\"1\" class=\"dataframe\">\n  <thead>\n    <tr style=\"text-align: right;\">\n      <th></th>\n      <th>author</th>\n      <th>highest_score</th>\n    </tr>\n  </thead>\n  <tbody>\n    <tr>\n      <th>0</th>\n      <td>patricktomas</td>\n      <td>4339</td>\n    </tr>\n    <tr>\n      <th>1</th>\n      <td>olalonde</td>\n      <td>3536</td>\n    </tr>\n    <tr>\n      <th>2</th>\n      <td>replicatorblog</td>\n      <td>3086</td>\n    </tr>\n    <tr>\n      <th>3</th>\n      <td>frederfred</td>\n      <td>2903</td>\n    </tr>\n    <tr>\n      <th>4</th>\n      <td>chimeracoder</td>\n      <td>2744</td>\n    </tr>\n    <tr>\n      <th>5</th>\n      <td>spikels</td>\n      <td>2666</td>\n    </tr>\n    <tr>\n      <th>6</th>\n      <td>jwwest</td>\n      <td>2376</td>\n    </tr>\n    <tr>\n      <th>7</th>\n      <td>ethomson</td>\n      <td>2376</td>\n    </tr>\n    <tr>\n      <th>8</th>\n      <td>dkasper</td>\n      <td>2228</td>\n    </tr>\n    <tr>\n      <th>9</th>\n      <td>bfaviero</td>\n      <td>2103</td>\n    </tr>\n  </tbody>\n</table>\n</div>"
          },
          "metadata": {}
        }
      ]
    }
  ],
  "metadata": {
    "language_info": {
      "name": "python",
      "version": "3.6.4",
      "mimetype": "text/x-python",
      "codemirror_mode": {
        "name": "ipython",
        "version": 3
      },
      "pygments_lexer": "ipython3",
      "nbconvert_exporter": "python",
      "file_extension": ".py"
    },
    "kernelspec": {
      "display_name": "Python 3",
      "language": "python",
      "name": "python3"
    }
  },
  "nbformat": 4,
  "nbformat_minor": 1
}